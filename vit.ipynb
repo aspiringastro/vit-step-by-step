{
 "cells": [
  {
   "cell_type": "code",
   "execution_count": 1,
   "metadata": {},
   "outputs": [],
   "source": [
    "import torch\n",
    "import torch.nn as nn\n",
    "import torch.nn.functional as F\n",
    "\n",
    "from dataset import cifar10\n",
    "from vision import util"
   ]
  },
  {
   "cell_type": "code",
   "execution_count": null,
   "metadata": {},
   "outputs": [
    {
     "name": "stdout",
     "output_type": "stream",
     "text": [
      "Files already downloaded and verified\n"
     ]
    },
    {
     "name": "stderr",
     "output_type": "stream",
     "text": [
      "Traceback (most recent call last):\n",
      "  File \"<string>\", line 1, in <module>\n",
      "  File \"/Users/ajithj/mambaforge/envs/vit-step-by-step/lib/python3.10/multiprocessing/spawn.py\", line 116, in spawn_main\n",
      "    exitcode = _main(fd, parent_sentinel)\n",
      "  File \"/Users/ajithj/mambaforge/envs/vit-step-by-step/lib/python3.10/multiprocessing/spawn.py\", line 125, in _main\n",
      "    prepare(preparation_data)\n",
      "  File \"/Users/ajithj/mambaforge/envs/vit-step-by-step/lib/python3.10/multiprocessing/spawn.py\", line 236, in prepare\n",
      "    _fixup_main_from_path(data['init_main_from_path'])\n",
      "  File \"/Users/ajithj/mambaforge/envs/vit-step-by-step/lib/python3.10/multiprocessing/spawn.py\", line 287, in _fixup_main_from_path\n",
      "    main_content = runpy.run_path(main_path,\n",
      "  File \"/Users/ajithj/mambaforge/envs/vit-step-by-step/lib/python3.10/runpy.py\", line 269, in run_path\n",
      "    return _run_module_code(code, init_globals, run_name,\n",
      "  File \"/Users/ajithj/mambaforge/envs/vit-step-by-step/lib/python3.10/runpy.py\", line 96, in _run_module_code\n",
      "    _run_code(code, mod_globals, init_globals,\n",
      "  File \"/Users/ajithj/mambaforge/envs/vit-step-by-step/lib/python3.10/runpy.py\", line 86, in _run_code\n",
      "    exec(code, run_globals)\n",
      "  File \"/Users/ajithj/mlai/vit/vit.ipynb\", line 55, in <module>\n",
      "    \"execution_count\": null,\n",
      "NameError: name 'null' is not defined\n"
     ]
    }
   ],
   "source": [
    "dataset = cifar10.CIFAR10DataSet()\n",
    "downloader = dataset.train_dataloader()\n",
    "images, labels = dataset.get_batch(downloader)\n",
    "util.show_images(images)"
   ]
  },
  {
   "cell_type": "code",
   "execution_count": null,
   "metadata": {},
   "outputs": [],
   "source": []
  }
 ],
 "metadata": {
  "kernelspec": {
   "display_name": "Python 3 (ipykernel)",
   "language": "python",
   "name": "python3"
  },
  "language_info": {
   "codemirror_mode": {
    "name": "ipython",
    "version": 3
   },
   "file_extension": ".py",
   "mimetype": "text/x-python",
   "name": "python",
   "nbconvert_exporter": "python",
   "pygments_lexer": "ipython3",
   "version": "3.10.0"
  },
  "vscode": {
   "interpreter": {
    "hash": "981e1182db09a2007bee225472671933ebfc0dce5cb1a519f22c91c47ddc6bdd"
   }
  }
 },
 "nbformat": 4,
 "nbformat_minor": 4
}
