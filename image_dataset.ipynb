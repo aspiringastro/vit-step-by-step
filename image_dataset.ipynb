{
 "cells": [
  {
   "cell_type": "code",
   "execution_count": 9,
   "id": "b185b12f-f233-4352-82c9-dd7c270c8937",
   "metadata": {},
   "outputs": [],
   "source": [
    "import torch\n",
    "import torch.nn as nn\n",
    "import torch.nn.functional as F\n",
    "from torch.utils.data import Dataset, DataLoader\n",
    "\n",
    "import torchvision\n",
    "from torchvision import transforms as T\n",
    "from torchvision.datasets import CIFAR10\n",
    "from torchvision.utils import make_grid\n",
    "\n",
    "import matplotlib.pyplot as plt\n",
    "import numpy as np"
   ]
  },
  {
   "cell_type": "code",
   "execution_count": 10,
   "id": "d9c4c630-e9bd-494a-a6b3-85f19ab7f6e7",
   "metadata": {},
   "outputs": [],
   "source": [
    "class HyperParameters(dict):\n",
    "    __getattr__ = dict.get\n",
    "    __setattr__ = dict.__setitem__\n",
    "    __delattr__ = dict.__delitem__\n",
    "        \n",
    "    def __repr__(self):\n",
    "        return '\\n'.join(f\"Parameter: {k:<16} Value: {v}\" for k,v in self.items())\n",
    "            \n",
    "        "
   ]
  },
  {
   "cell_type": "code",
   "execution_count": 15,
   "id": "f9509531-aaa0-4302-8253-78ef937fb370",
   "metadata": {},
   "outputs": [],
   "source": [
    "class CIFAR10DataSet():\n",
    "    def __init__(self, hparams):\n",
    "        super().__init__()\n",
    "        self.hparams = HyperParameters(hparams)\n",
    "        \n",
    "    def train_dataloader(self):\n",
    "        transform = T.Compose(\n",
    "            [\n",
    "                T.Resize((self.hparams.img_size, self.hparams.img_size)),\n",
    "                T.ToTensor(),\n",
    "                T.Normalize((0.5, 0.5, 0.5), (0.5, 0.5, 0.5)),\n",
    "            ]\n",
    "        )\n",
    "        dataset = CIFAR10(root=self.hparams.data_dir, train=True, download=True, transform=transform)\n",
    "        dataloader = DataLoader(dataset, batch_size=self.hparams.batch_size, shuffle=True, num_workers=self.hparams.num_workers)\n",
    "        return dataloader\n",
    "    \n",
    "    def get_classes():\n",
    "        return ('plane', 'car', 'bird', 'cat',\n",
    "           'deer', 'dog', 'frog', 'horse', 'ship', 'truck')\n",
    "    \n",
    "    def _imshow(self, img):\n",
    "        img = img / 2 + 0.5\n",
    "        npimg = img.numpy()\n",
    "        plt.imshow(np.transpose(npimg, (1, 2, 0)))\n",
    "        plt.show()\n",
    "        \n",
    "    def show_images_grid(self, dataloader, grid_size=16):\n",
    "        it = iter(dataloader)\n",
    "        images, labels = next(it)\n",
    "        _imshow(make_grid(images))\n",
    "        classes = get_classes()\n",
    "        print(' '.join(f'{classes[labels[j]]:s}' for j in range(grid_size)))\n",
    "\n",
    "    \n",
    "        "
   ]
  },
  {
   "cell_type": "code",
   "execution_count": 16,
   "id": "3267b683-5e50-48b5-b290-4df26982f882",
   "metadata": {},
   "outputs": [],
   "source": [
    "cds_config = {\n",
    "    'data_dir':\"./data\",\n",
    "    'batch_size': 32,\n",
    "    'num_workers': 4,\n",
    "    'img_size': 224,\n",
    "}\n"
   ]
  },
  {
   "cell_type": "code",
   "execution_count": 17,
   "id": "996acda6-8740-4de1-9907-192cdf7657cd",
   "metadata": {},
   "outputs": [
    {
     "name": "stdout",
     "output_type": "stream",
     "text": [
      "Files already downloaded and verified\n"
     ]
    }
   ],
   "source": [
    "cds = CIFAR10DataSet(cds_config)\n",
    "dl = cds.train_dataloader()"
   ]
  },
  {
   "cell_type": "code",
   "execution_count": null,
   "id": "03621102-f55b-4745-aa87-9ec63adcdf90",
   "metadata": {},
   "outputs": [
    {
     "name": "stderr",
     "output_type": "stream",
     "text": [
      "Traceback (most recent call last):\n",
      "  File \"<string>\", line 1, in <module>\n",
      "  File \"/Users/ajithj/mambaforge/envs/vit-step-by-step/lib/python3.10/multiprocessing/spawn.py\", line 116, in spawn_main\n",
      "    exitcode = _main(fd, parent_sentinel)\n",
      "  File \"/Users/ajithj/mambaforge/envs/vit-step-by-step/lib/python3.10/multiprocessing/spawn.py\", line 125, in _main\n",
      "    prepare(preparation_data)\n",
      "  File \"/Users/ajithj/mambaforge/envs/vit-step-by-step/lib/python3.10/multiprocessing/spawn.py\", line 236, in prepare\n",
      "    _fixup_main_from_path(data['init_main_from_path'])\n",
      "  File \"/Users/ajithj/mambaforge/envs/vit-step-by-step/lib/python3.10/multiprocessing/spawn.py\", line 287, in _fixup_main_from_path\n",
      "    main_content = runpy.run_path(main_path,\n",
      "  File \"/Users/ajithj/mambaforge/envs/vit-step-by-step/lib/python3.10/runpy.py\", line 269, in run_path\n",
      "    return _run_module_code(code, init_globals, run_name,\n",
      "  File \"/Users/ajithj/mambaforge/envs/vit-step-by-step/lib/python3.10/runpy.py\", line 96, in _run_module_code\n",
      "    _run_code(code, mod_globals, init_globals,\n",
      "  File \"/Users/ajithj/mambaforge/envs/vit-step-by-step/lib/python3.10/runpy.py\", line 86, in _run_code\n",
      "    exec(code, run_globals)\n",
      "  File \"/Users/ajithj/mlai/vit-step-by-step/Untitled.ipynb\", line 72, in <module>\n",
      "    \"execution_count\": null,\n",
      "NameError: name 'null' is not defined\n"
     ]
    }
   ],
   "source": [
    "cds.show_images_grid(dl)"
   ]
  },
  {
   "cell_type": "code",
   "execution_count": null,
   "id": "57621abf-7c34-4a24-b73a-0127bee3b45b",
   "metadata": {},
   "outputs": [],
   "source": []
  }
 ],
 "metadata": {
  "kernelspec": {
   "display_name": "vit-step-by-step",
   "language": "python",
   "name": "python3"
  },
  "language_info": {
   "codemirror_mode": {
    "name": "ipython",
    "version": 3
   },
   "file_extension": ".py",
   "mimetype": "text/x-python",
   "name": "python",
   "nbconvert_exporter": "python",
   "pygments_lexer": "ipython3",
   "version": "3.10.0 | packaged by conda-forge | (default, Nov 20 2021, 02:43:39) [Clang 11.1.0 ]"
  },
  "vscode": {
   "interpreter": {
    "hash": "981e1182db09a2007bee225472671933ebfc0dce5cb1a519f22c91c47ddc6bdd"
   }
  }
 },
 "nbformat": 4,
 "nbformat_minor": 5
}
