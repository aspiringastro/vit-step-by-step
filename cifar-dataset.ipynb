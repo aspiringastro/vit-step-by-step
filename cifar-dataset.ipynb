{
 "cells": [
  {
   "cell_type": "code",
   "execution_count": 1,
   "id": "035f6bd4-2182-44b7-8f99-5d818d62b74a",
   "metadata": {},
   "outputs": [],
   "source": [
    "import torch\n",
    "import torch.nn as nn\n",
    "import torch.nn.functional as F\n",
    "from torch.utils.data import Dataset, DataLoader\n",
    "\n",
    "import torchvision\n",
    "from torchvision import transforms as T\n",
    "from torchvision.datasets import CIFAR10\n",
    "from torchvision.utils import make_grid\n",
    "import torchvision.transforms.functional as TF\n",
    "\n",
    "import matplotlib.pyplot as plt\n",
    "import numpy as np"
   ]
  },
  {
   "cell_type": "code",
   "execution_count": 2,
   "id": "dd4e401a-8813-4928-bd28-a2e6771a322f",
   "metadata": {},
   "outputs": [],
   "source": [
    "class HyperParameters(dict):\n",
    "    __getattr__ = dict.get\n",
    "    __setattr__ = dict.__setitem__\n",
    "    __delattr__ = dict.__delitem__\n",
    "        \n",
    "    def __repr__(self):\n",
    "        return '\\n'.join(f\"Parameter: {k:<16} Value: {v}\" for k,v in self.items())\n",
    "            \n",
    "        "
   ]
  },
  {
   "cell_type": "code",
   "execution_count": 30,
   "id": "d825b4ea-f015-4f80-be0b-3e9698673920",
   "metadata": {},
   "outputs": [],
   "source": [
    "class CIFAR10DataSet():\n",
    "    def __init__(self, hparams):\n",
    "        super().__init__()\n",
    "        self.hparams = HyperParameters(hparams)\n",
    "        #self.mean = (0.4914, 0.4822, 0.4465)\n",
    "        #self.std = (0.2471, 0.2435, 0.2616)\n",
    "        \n",
    "    def train_dataloader(self):\n",
    "        transform = T.Compose(\n",
    "            [\n",
    "                T.Resize((self.hparams.img_size, self.hparams.img_size)),\n",
    "                T.ToTensor(),\n",
    "                T.Normalize((0.5, 0.5, 0.5), (0.5, 0.5, 0.5)),\n",
    "            ]\n",
    "        )\n",
    "        dataset = CIFAR10(\n",
    "            root=self.hparams.data_dir, \n",
    "            train=True, \n",
    "            download=True, \n",
    "            transform=transform,\n",
    "        )\n",
    "        dataloader = DataLoader(\n",
    "            dataset, \n",
    "            batch_size=self.hparams.batch_size, \n",
    "            shuffle=True, \n",
    "            num_workers=self.hparams.num_workers,\n",
    "        )\n",
    "        return dataloader\n",
    "    \n",
    "    def get_classes(self):\n",
    "        return ('airplane', 'car', 'bird', 'cat',\n",
    "           'deer', 'dog', 'frog', 'horse', 'ship', 'truck')\n",
    "    \n",
    "    def _imshow(self, imgs, labels):\n",
    "        if not isinstance(imgs, list):\n",
    "            imgs = [imgs]\n",
    "        classes = self.get_classes()\n",
    "        fig, axs = plt.subplots(ncols=4, nrows=max(len(imgs)//4,1), squeeze=False)\n",
    "        for i, img in enumerate(imgs):\n",
    "            img = img / 2 + 0.5\n",
    "            npimg = img.numpy()\n",
    "            axs[i//4, i%4].imshow(np.transpose(npimg, (1, 2, 0)))\n",
    "            axs[i//4, i%4].set(xticklabels=[], yticklabels=[], xticks=[], yticks=[])\n",
    "            axs[i//4, i%4].title.set_text(classes[labels[i]])\n",
    "        \n",
    "    def show_grid(self, dataloader):\n",
    "        it = iter(dataloader)\n",
    "        images, labels = next(it)\n",
    "        self._imshow(make_grid(images), labels)\n",
    "\n",
    "    "
   ]
  },
  {
   "cell_type": "code",
   "execution_count": 31,
   "id": "328c0dad-fdad-492a-ba0b-c39676b62319",
   "metadata": {},
   "outputs": [],
   "source": [
    "cds_config = {\n",
    "    'data_dir':\"./data\",\n",
    "    'batch_size': 32,\n",
    "    'num_workers': 4,\n",
    "    'img_size':224,\n",
    "}\n"
   ]
  },
  {
   "cell_type": "code",
   "execution_count": 32,
   "id": "8c1a51c4-59ee-4ffe-8a39-931fa0d8ac73",
   "metadata": {},
   "outputs": [
    {
     "name": "stdout",
     "output_type": "stream",
     "text": [
      "Files already downloaded and verified\n"
     ]
    }
   ],
   "source": [
    "cds = CIFAR10DataSet(cds_config)\n",
    "dl = cds.train_dataloader()"
   ]
  },
  {
   "cell_type": "code",
   "execution_count": 33,
   "id": "9bc94729-e3c4-496f-bb20-51c680600bcb",
   "metadata": {},
   "outputs": [
    {
     "data": {
      "image/png": "[encoded data removed]",
      "text/plain": [
       "<Figure size 640x480 with 4 Axes>"
      ]
     },
     "metadata": {},
     "output_type": "display_data"
    }
   ],
   "source": [
    "cds.show_grid(dl)"
   ]
  },
  {
   "cell_type": "code",
   "execution_count": null,
   "id": "38a8a208-67ce-4334-be66-3563bb737123",
   "metadata": {},
   "outputs": [],
   "source": []
  }
 ],
 "metadata": {
  "kernelspec": {
   "display_name": "vit-step-by-step",
   "language": "python",
   "name": "python3"
  },
  "language_info": {
   "codemirror_mode": {
    "name": "ipython",
    "version": 3
   },
   "file_extension": ".py",
   "mimetype": "text/x-python",
   "name": "python",
   "nbconvert_exporter": "python",
   "pygments_lexer": "ipython3",
   "version": "3.10.0"
  },
  "vscode": {
   "interpreter": {
    "hash": "981e1182db09a2007bee225472671933ebfc0dce5cb1a519f22c91c47ddc6bdd"
   }
  }
 },
 "nbformat": 4,
 "nbformat_minor": 5
}
