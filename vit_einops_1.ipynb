{
 "cells": [
  {
   "cell_type": "code",
   "execution_count": 1,
   "metadata": {},
   "outputs": [],
   "source": [
    "import torch\n",
    "import torch.functional as F\n",
    "import torch.nn as nn\n",
    "\n",
    "import matplotlib.pyplot as plt\n",
    "%matplotlib inline\n",
    "\n",
    "import numpy as np\n",
    "from einops import rearrange, reduce, reduce, repeat\n",
    "# from utils import image\n",
    "# image.display_np_arrays_as_images()"
   ]
  },
  {
   "cell_type": "code",
   "execution_count": 22,
   "metadata": {},
   "outputs": [
    {
     "data": {
      "text/plain": [
       "True"
      ]
     },
     "execution_count": 22,
     "metadata": {},
     "output_type": "execute_result"
    }
   ],
   "source": [
    "from PIL import Image\n",
    "img = Image.open('data/dog.jpg')\n",
    "img = np.asarray(img)\n",
    "img_t = torch.from_numpy(img).float().clone()\n",
    "std, mean = torch.std_mean(img_t, dim=(0,1), unbiased=False)\n",
    "\n",
    "def normalize(t, dim=(0,1)):\n",
    "    std, mean = torch.std_mean(t, dim, unbiased=False)\n",
    "    return t.sub(mean).div(std), (std, mean)\n",
    "\n",
    "def denormalize(t, mean, std):\n",
    "    return t.mul(std).add(mean)\n",
    "\n",
    "norm, (std, mean) = normalize(img_t)\n",
    "denorm = denormalize(norm, mean, std)\n",
    "torch.allclose(denorm, img_t)"
   ]
  },
  {
   "cell_type": "code",
   "execution_count": null,
   "metadata": {},
   "outputs": [],
   "source": []
  }
 ],
 "metadata": {
  "kernelspec": {
   "display_name": "Python 3",
   "language": "python",
   "name": "python3"
  },
  "language_info": {
   "codemirror_mode": {
    "name": "ipython",
    "version": 3
   },
   "file_extension": ".py",
   "mimetype": "text/x-python",
   "name": "python",
   "nbconvert_exporter": "python",
   "pygments_lexer": "ipython3",
   "version": "3.11.0"
  },
  "orig_nbformat": 4,
  "vscode": {
   "interpreter": {
    "hash": "6a501d9549d1a7ddd2cc9b2adc5af66899b8454c82add86be4dc7912a8c84e43"
   }
  }
 },
 "nbformat": 4,
 "nbformat_minor": 2
}
